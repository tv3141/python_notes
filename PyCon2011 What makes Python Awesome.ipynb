{
 "cells": [
  {
   "cell_type": "code",
   "execution_count": null,
   "metadata": {},
   "outputs": [],
   "source": [
    "from IPython.display import YouTubeVideo"
   ]
  },
  {
   "cell_type": "code",
   "execution_count": null,
   "metadata": {
    "collapsed": true
   },
   "outputs": [],
   "source": [
    "YouTubeVideo('b_pTxGu2L04', start=0)"
   ]
  },
  {
   "cell_type": "markdown",
   "metadata": {},
   "source": [
    "## Context for success\n",
    "\n",
    "- access: free, and open source\n",
    "- accountability: commercial distributions (\"companies want a throat to choke\")\n",
    "- philosophy: Zen\n",
    "- platform: pypi\n",
    "- KillerApps: django, youtube, numpy, ...\n",
    "- literature: plenty of books (ocaml has no books)\n",
    "\n",
    "\n",
    "## Characteristics\n",
    "\n",
    "- easy to learn concepts/ winning features\n",
    "- interpreter: rapid dev cycle\n",
    "- flight simulator written in awk!\n",
    "- very expressive\n",
    "- beauty: readability -> fun, and maintainability\n",
    "- \"one way to do things\" (Perl write only), code looks similar\n",
    "- \"Batteries included\" to get around security restrictions\n",
    "- Protocols (36:00):\n",
    "    - database api specification\n",
    "    - hashlib common interface (md5, sha)\n",
    "    - compression interface\n",
    "    - conversion (pickle, json, marshal)\n",
    "    - WSGI to connect web servers and web frameworks\n",
    "    - file API \n",
    "        - open, write, read_lines"
   ]
  },
  {
   "cell_type": "markdown",
   "metadata": {},
   "source": [
    "## Winning language features\n",
    "\n",
    "### Foundation\n",
    "- dicts and list\n",
    "- automatic memory management\n",
    "- Exception\n",
    "- everything first class for higher leve solution\n",
    "    - https://www.joelonsoftware.com/2006/08/01/can-your-programming-language-do-this/\n",
    "- override syntax - \"You own the brackets, you own the dot\"\n",
    "\n",
    "### Elegant advance functionality\n",
    "- Iterator protocol: Lego - everything possible is or consumes iterator\n",
    "- list comprehension\n",
    "- simple generators (`yield`)\n",
    "- combine: generator expressions, set comprehensions, dict comprehensions\n",
    "- decorators\n",
    "    - act on functions, methods, classes\n",
    "    - syntactic sugar turned into expressive composition tool\n",
    "    - suprisingly successful (lru)\n",
    "- introspection (help, docstrings, inspect, test discovery\n",
    "- generate new code on the fly\n",
    "    - `eval()`: single expression, return value\n",
    "    - `exec()`: execute code for side effects\n",
    "    - `type()`: create new classes on the fly\n",
    "    - `timeit` and `namedtuple` use it\n",
    "    - evaluate itself like Lisp (\"that's what makes Lisp Lisp\")\n",
    "- context managers (`with` statement)\n",
    "    - elegant resource management\n",
    "    - factor-out setup and tear-down\n",
    "    - inverse/complement to subroutine\n",
    "        - subroutine: sandwich - change filling\n",
    "        - with statement: sandwich - change bread around filling\n",
    " - abstract base classes (`abc`)\n",
    "     - uniform definition for sequence, mapping\n",
    "     - mix-ins\n",
    "     - allow overriding `isinstance()`, and `issubclass()`\n",
    "     - related to duck-typing\n",
    " - meaningfull indentation, appearance and function match"
   ]
  },
  {
   "cell_type": "code",
   "execution_count": null,
   "metadata": {},
   "outputs": [],
   "source": [
    "# count most common URLs in log files\n",
    "YouTubeVideo('b_pTxGu2L04', height=450, width=600, start=1230)"
   ]
  },
  {
   "cell_type": "code",
   "execution_count": null,
   "metadata": {},
   "outputs": [],
   "source": [
    "# find duplicate files\n",
    "# fast: optimized data structures\n",
    "# fast: use system calls -> IO bound\n",
    "YouTubeVideo('b_pTxGu2L04', height=450, width=600, start=1510)"
   ]
  },
  {
   "cell_type": "code",
   "execution_count": null,
   "metadata": {
    "collapsed": true
   },
   "outputs": [],
   "source": []
  }
 ],
 "metadata": {
  "kernelspec": {
   "display_name": "Python 3",
   "language": "python",
   "name": "python3"
  },
  "language_info": {
   "codemirror_mode": {
    "name": "ipython",
    "version": 3
   },
   "file_extension": ".py",
   "mimetype": "text/x-python",
   "name": "python",
   "nbconvert_exporter": "python",
   "pygments_lexer": "ipython3",
   "version": "3.6.2"
  }
 },
 "nbformat": 4,
 "nbformat_minor": 2
}
